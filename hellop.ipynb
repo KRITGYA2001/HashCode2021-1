{
 "cells": [
  {
   "cell_type": "code",
   "execution_count": 28,
   "metadata": {
    "collapsed": true
   },
   "outputs": [
    {
     "name": "stdout",
     "output_type": "stream",
     "text": [
      "<class 'dict'>\n",
      "<class 'dict'>\n"
     ]
    }
   ],
   "source": [
    "import networkx as nx\n",
    "\n",
    "# class crossroad:\n",
    "\n",
    "\n",
    "with open('a.txt', 'r') as inputfile:\n",
    "\n",
    "    counter = 0\n",
    "    car_id = 0\n",
    "    streets = {}\n",
    "    cars = {}\n",
    "\n",
    "    for line in inputfile.readlines():\n",
    "        if counter == 0:\n",
    "            duration, intersections, number_streets, number_cars, bonus = line.replace('\\n','').split(' ')\n",
    "            number_streets = int(number_streets)\n",
    "            first_line = False\n",
    "\n",
    "        elif counter <= number_streets:\n",
    "            start_intersection, end_intersection, name, length = line.replace('\\n', '').split(' ')\n",
    "            streets[name] = start_intersection, end_intersection, length\n",
    "        else:\n",
    "            car_path = line.replace('\\n', '').split(' ')\n",
    "            print(type(cars))\n",
    "            cars[car_id] = car_path[1:]\n",
    "            car_id += 1\n",
    "\n",
    "        counter += 1\n",
    "        # streets[name] = [start_intersection, end_intersection, length]\n"
   ]
  },
  {
   "cell_type": "code",
   "execution_count": null,
   "outputs": [],
   "source": [],
   "metadata": {
    "collapsed": false,
    "pycharm": {
     "name": "#%%\n"
    }
   }
  }
 ],
 "metadata": {
  "kernelspec": {
   "display_name": "Python 3",
   "language": "python",
   "name": "python3"
  },
  "language_info": {
   "codemirror_mode": {
    "name": "ipython",
    "version": 2
   },
   "file_extension": ".py",
   "mimetype": "text/x-python",
   "name": "python",
   "nbconvert_exporter": "python",
   "pygments_lexer": "ipython2",
   "version": "2.7.6"
  }
 },
 "nbformat": 4,
 "nbformat_minor": 0
}