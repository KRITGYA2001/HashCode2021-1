{
 "cells": [
  {
   "cell_type": "code",
   "execution_count": 51,
   "metadata": {
    "collapsed": true
   },
   "outputs": [
    {
     "name": "stdout",
     "output_type": "stream",
     "text": [
      "<class 'dict'>\n",
      "<class 'dict'>\n"
     ]
    },
    {
     "ename": "AttributeError",
     "evalue": "'City' object has no attribute 'intersections'",
     "output_type": "error",
     "traceback": [
      "\u001B[1;31m---------------------------------------------------------------------------\u001B[0m",
      "\u001B[1;31mAttributeError\u001B[0m                            Traceback (most recent call last)",
      "\u001B[1;32m<ipython-input-51-33c8ac017327>\u001B[0m in \u001B[0;36m<module>\u001B[1;34m\u001B[0m\n\u001B[0;32m     29\u001B[0m         \u001B[1;31m# streets[name] = [start_intersection, end_intersection, length]\u001B[0m\u001B[1;33m\u001B[0m\u001B[1;33m\u001B[0m\u001B[1;33m\u001B[0m\u001B[0m\n\u001B[0;32m     30\u001B[0m \u001B[1;33m\u001B[0m\u001B[0m\n\u001B[1;32m---> 31\u001B[1;33m \u001B[0mniceCity\u001B[0m \u001B[1;33m=\u001B[0m \u001B[0mCity\u001B[0m\u001B[1;33m(\u001B[0m\u001B[0mstreets\u001B[0m\u001B[1;33m,\u001B[0m \u001B[0mint\u001B[0m\u001B[1;33m(\u001B[0m\u001B[0mintersections\u001B[0m\u001B[1;33m)\u001B[0m\u001B[1;33m,\u001B[0m \u001B[0mcars\u001B[0m\u001B[1;33m)\u001B[0m\u001B[1;33m\u001B[0m\u001B[1;33m\u001B[0m\u001B[0m\n\u001B[0m\u001B[0;32m     32\u001B[0m \u001B[1;33m\u001B[0m\u001B[0m\n",
      "\u001B[1;32mD:\\Documents\\Coding\\Python\\HashCode2021\\models.py\u001B[0m in \u001B[0;36m__init__\u001B[1;34m(self, streets, intersections, paths)\u001B[0m\n\u001B[0;32m     31\u001B[0m                  \u001B[1;31m# paths: Dict[int, List[str]]):\u001B[0m\u001B[1;33m\u001B[0m\u001B[1;33m\u001B[0m\u001B[1;33m\u001B[0m\u001B[0m\n\u001B[0;32m     32\u001B[0m \u001B[1;33m\u001B[0m\u001B[0m\n\u001B[1;32m---> 33\u001B[1;33m         \u001B[1;31m# self.intersections = {}\u001B[0m\u001B[1;33m\u001B[0m\u001B[1;33m\u001B[0m\u001B[1;33m\u001B[0m\u001B[0m\n\u001B[0m\u001B[0;32m     34\u001B[0m         \u001B[1;31m# self.streets = {}\u001B[0m\u001B[1;33m\u001B[0m\u001B[1;33m\u001B[0m\u001B[1;33m\u001B[0m\u001B[0m\n\u001B[0;32m     35\u001B[0m         \u001B[1;31m# self.state = {}\u001B[0m\u001B[1;33m\u001B[0m\u001B[1;33m\u001B[0m\u001B[1;33m\u001B[0m\u001B[0m\n",
      "\u001B[1;31mAttributeError\u001B[0m: 'City' object has no attribute 'intersections'"
     ]
    }
   ],
   "source": [
    "import networkx as nx\n",
    "from models import *\n",
    "# class crossroad:\n",
    "\n",
    "\n",
    "with open('a.txt', 'r') as inputfile:\n",
    "\n",
    "    counter = 0\n",
    "    car_id = 0\n",
    "    streets = {}\n",
    "    cars = {}\n",
    "\n",
    "    for line in inputfile.readlines():\n",
    "        if counter == 0:\n",
    "            duration, intersections, number_streets, number_cars, bonus = line.replace('\\n','').split(' ')\n",
    "            number_streets = int(number_streets)\n",
    "            first_line = False\n",
    "\n",
    "        elif counter <= number_streets:\n",
    "            start_intersection, end_intersection, name, length = line.replace('\\n', '').split(' ')\n",
    "            streets[name] = {'from': int(start_intersection), 'to': int(end_intersection), 'length': int(length)}\n",
    "        else:\n",
    "            car_path = line.replace('\\n', '').split(' ')\n",
    "            print(type(cars))\n",
    "            cars[car_id] = car_path[1:]\n",
    "            car_id += 1\n",
    "\n",
    "        counter += 1\n",
    "        # streets[name] = [start_intersection, end_intersection, length]\n",
    "\n",
    "niceCity = City(streets, int(intersections), cars)"
   ]
  },
  {
   "cell_type": "code",
   "execution_count": null,
   "outputs": [],
   "source": [],
   "metadata": {
    "collapsed": false,
    "pycharm": {
     "name": "#%%\n"
    }
   }
  }
 ],
 "metadata": {
  "kernelspec": {
   "display_name": "Python 3",
   "language": "python",
   "name": "python3"
  },
  "language_info": {
   "codemirror_mode": {
    "name": "ipython",
    "version": 2
   },
   "file_extension": ".py",
   "mimetype": "text/x-python",
   "name": "python",
   "nbconvert_exporter": "python",
   "pygments_lexer": "ipython2",
   "version": "2.7.6"
  }
 },
 "nbformat": 4,
 "nbformat_minor": 0
}